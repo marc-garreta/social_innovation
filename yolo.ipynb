{
 "cells": [
  {
   "cell_type": "code",
   "execution_count": 1,
   "metadata": {},
   "outputs": [],
   "source": [
    "import os\n",
    "import shutil\n",
    "from sklearn.model_selection import train_test_split\n",
    "\n",
    "# Path to the folder containing images\n",
    "image_folder = \"/Users/marcgarreta/Documents/GitHub/social_innovation/images\"\n",
    "\n",
    "# Path to the annotations.txt file\n",
    "annotations_file = \"/Users/marcgarreta/Documents/GitHub/social_innovation/_annotations.txt\"\n",
    "\n",
    "# Output directory for the dataset\n",
    "output_dir = \"yolov8_dataset\"\n",
    "train_dir = os.path.join(output_dir, \"train\")\n",
    "test_dir = os.path.join(output_dir, \"test\")\n",
    "\n",
    "# Create directories if they don't exist\n",
    "for directory in [train_dir, test_dir]:\n",
    "    os.makedirs(directory, exist_ok=True)\n",
    "\n",
    "# Read annotations.txt\n",
    "image_paths = []\n",
    "with open(annotations_file, 'r') as f:\n",
    "    for line in f:\n",
    "        line = line.strip().split(' ')\n",
    "        image_name = line[0]\n",
    "        image_paths.append(os.path.join(image_folder, image_name))\n",
    "\n",
    "# Perform train-test split\n",
    "train_paths, test_paths = train_test_split(image_paths, test_size=0.2, random_state=42)\n",
    "\n",
    "# Copy images to train and test directories\n",
    "for src_image_path in train_paths:\n",
    "    image_name = os.path.basename(src_image_path)\n",
    "    shutil.copy(src_image_path, train_dir)\n",
    "    # You may also want to copy corresponding annotation files here\n",
    "\n",
    "for src_image_path in test_paths:\n",
    "    image_name = os.path.basename(src_image_path)\n",
    "    shutil.copy(src_image_path, test_dir)\n",
    "    # You may also want to copy corresponding annotation files here\n"
   ]
  }
 ],
 "metadata": {
  "kernelspec": {
   "display_name": "Python 3",
   "language": "python",
   "name": "python3"
  },
  "language_info": {
   "codemirror_mode": {
    "name": "ipython",
    "version": 3
   },
   "file_extension": ".py",
   "mimetype": "text/x-python",
   "name": "python",
   "nbconvert_exporter": "python",
   "pygments_lexer": "ipython3",
   "version": "3.12.0"
  }
 },
 "nbformat": 4,
 "nbformat_minor": 2
}
